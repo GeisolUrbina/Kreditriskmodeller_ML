{
 "cells": [
  {
   "cell_type": "markdown",
   "id": "89d19e56",
   "metadata": {},
   "source": [
    "## Kreditriskmodell - Logistic regression"
   ]
  },
  {
   "cell_type": "code",
   "execution_count": null,
   "id": "31a3ef4d",
   "metadata": {},
   "outputs": [],
   "source": [
    "import pandas as pd\n",
    "import numpy as np\n",
    "import matplotlib.pyplot as plt\n",
    "import os, time, json\n",
    "\n",
    "from sklearn.model_selection import train_test_split, StratifiedKFold, cross_val_predict, GridSearchCV\n",
    "from sklearn.compose import ColumnTransformer\n",
    "from sklearn.preprocessing import StandardScaler, OneHotEncoder\n",
    "from sklearn.pipeline import Pipeline\n",
    "from sklearn.linear_model import LogisticRegression\n",
    "from sklearn.calibration import CalibratedClassifierCV\n",
    "from sklearn.metrics import (precision_recall_curve, roc_auc_score, average_precision_score, \n",
    "accuracy_score, recall_score, precision_score, f1_score, brier_score_loss,confusion_matrix, \n",
    "classification_report, RocCurveDisplay)"
   ]
  },
  {
   "cell_type": "code",
   "execution_count": 2,
   "id": "44207044",
   "metadata": {},
   "outputs": [],
   "source": [
    "df = pd.read_csv(\"synthetic_credit_data.csv\")"
   ]
  },
  {
   "cell_type": "code",
   "execution_count": 3,
   "id": "96250d74",
   "metadata": {},
   "outputs": [],
   "source": [
    "# Används bara låntagare för defaultmodell\n",
    "bor = df[df[\"has_loan\"] == 1].copy()"
   ]
  },
  {
   "cell_type": "code",
   "execution_count": 4,
   "id": "3702e48f",
   "metadata": {},
   "outputs": [],
   "source": [
    "# Feature engineering\n",
    "df['log_income'] = np.log1p(df['income'])\n",
    "df['dti_miss'] = df['dti'] * df['missed_payments']\n",
    "df['young'] = (df['age'] < 25).astype(int)\n",
    "df['short_tenure'] = (df['years_with_bank'] < 2).astype(int)\n",
    "df['young_short'] = df['young'] * df['short_tenure']\n",
    "\n",
    "# WOE-binning för dti\n",
    "def woe_bin_continuous(s, y, q=10):\n",
    "    bins = pd.qcut(s, q=q, duplicates='drop')\n",
    "    tab = pd.crosstab(bins, y, normalize='columns').clip(1e-6, 1-1e-6)\n",
    "    woe = np.log(tab[1] / tab[0])\n",
    "    return woe, bins\n",
    "\n",
    "woe, bins = woe_bin_continuous(df['dti'], df['default'])\n",
    "map_woe = dict(zip(bins.cat.categories, woe))\n",
    "df['dti_woe'] = pd.cut(df['dti'], bins=bins.cat.categories).map(map_woe)"
   ]
  },
  {
   "cell_type": "code",
   "execution_count": 5,
   "id": "6ab1d5e7",
   "metadata": {},
   "outputs": [],
   "source": [
    "# Features och målvariabel\n",
    "features = [\n",
    "    'log_income', 'credit_score', 'years_with_bank', 'age', 'missed_payments',\n",
    "    'dti_miss', 'young', 'short_tenure', 'young_short', 'dti_woe'\n",
    "]\n",
    "target = 'default'\n",
    "\n",
    "X = df[features].copy()\n",
    "y = df[target].astype(int)"
   ]
  },
  {
   "cell_type": "code",
   "execution_count": 6,
   "id": "0c4abbe8",
   "metadata": {},
   "outputs": [],
   "source": [
    "X_train, X_test, y_train, y_test = train_test_split(X, y, test_size=0.2, stratify=y, random_state=42)"
   ]
  },
  {
   "cell_type": "code",
   "execution_count": 7,
   "id": "c5c28df1",
   "metadata": {},
   "outputs": [
    {
     "name": "stdout",
     "output_type": "stream",
     "text": [
      "Bästa modellens hyperparametrar: {'clf__C': 0.1, 'clf__l1_ratio': 0.5, 'clf__penalty': 'elasticnet'}\n"
     ]
    }
   ],
   "source": [
    "# Pipeline + GridSearch\n",
    "from sklearn.preprocessing import FunctionTransformer\n",
    "\n",
    "pipe = Pipeline([\n",
    "    ('scaler', StandardScaler()),\n",
    "    ('clf', LogisticRegression(solver='saga', max_iter=4000, random_state=42))\n",
    "])\n",
    "\n",
    "param_grid = {\n",
    "    'clf__penalty': ['l2', 'elasticnet'],\n",
    "    'clf__C': [0.1, 0.5, 1.0, 2.0],\n",
    "    'clf__l1_ratio': [0.1, 0.5]  # används bara vid elasticnet\n",
    "}\n",
    "\n",
    "cv = StratifiedKFold(n_splits=5, shuffle=True, random_state=42)\n",
    "grid = GridSearchCV(pipe, param_grid, cv=cv, scoring='roc_auc', n_jobs=-1)\n",
    "grid.fit(X_train, y_train)\n",
    "\n",
    "best_model = grid.best_estimator_\n",
    "print('Bästa modellens hyperparametrar:', grid.best_params_)"
   ]
  },
  {
   "cell_type": "code",
   "execution_count": 8,
   "id": "ea3ca799",
   "metadata": {},
   "outputs": [
    {
     "name": "stdout",
     "output_type": "stream",
     "text": [
      "Tunad threshold (max F1): 0.237\n"
     ]
    }
   ],
   "source": [
    "# Kalibrering + OOF threshold-tuning\n",
    "calibrated = CalibratedClassifierCV(best_model, method='isotonic', cv=5)\n",
    "calibrated.fit(X_train, y_train)\n",
    "\n",
    "# OOF-prob\n",
    "oof_proba = cross_val_predict(best_model, X_train, y_train, cv=cv, method='predict_proba')[:,1]\n",
    "prec, rec, thr = precision_recall_curve(y_train, oof_proba)\n",
    "f1 = 2 * prec * rec / (prec + rec + 1e-6)\n",
    "best_idx = np.nanargmax(f1)\n",
    "best_thr = float(thr[best_idx])\n",
    "print(f'Tunad threshold (max F1): {best_thr:.3f}')"
   ]
  },
  {
   "cell_type": "code",
   "execution_count": 9,
   "id": "3d78e9e1",
   "metadata": {},
   "outputs": [
    {
     "name": "stdout",
     "output_type": "stream",
     "text": [
      "=== Threshold = 0.50 ===\n",
      "ROC AUC : 0.9427898027898027\n",
      "PR  AUC : 0.433328252614157\n",
      "Accuracy: 0.943\n",
      "Recall  : 0.05454545454545454\n",
      "Precision: 0.375\n",
      "F1      : 0.09523809523809523\n",
      "Brier   : 0.03881977923287631\n",
      "Confusion matrix:\n",
      " [[940   5]\n",
      " [ 52   3]]\n",
      "              precision    recall  f1-score   support\n",
      "\n",
      "           0       0.95      0.99      0.97       945\n",
      "           1       0.38      0.05      0.10        55\n",
      "\n",
      "    accuracy                           0.94      1000\n",
      "   macro avg       0.66      0.52      0.53      1000\n",
      "weighted avg       0.92      0.94      0.92      1000\n",
      "\n",
      "\n",
      "=== Threshold = Tunad ===\n",
      "ROC AUC : 0.9427898027898027\n",
      "PR  AUC : 0.433328252614157\n",
      "Accuracy: 0.915\n",
      "Recall  : 0.5636363636363636\n",
      "Precision: 0.33695652173913043\n",
      "F1      : 0.4217687074829932\n",
      "Brier   : 0.03881977923287631\n",
      "Confusion matrix:\n",
      " [[884  61]\n",
      " [ 24  31]]\n",
      "              precision    recall  f1-score   support\n",
      "\n",
      "           0       0.97      0.94      0.95       945\n",
      "           1       0.34      0.56      0.42        55\n",
      "\n",
      "    accuracy                           0.92      1000\n",
      "   macro avg       0.66      0.75      0.69      1000\n",
      "weighted avg       0.94      0.92      0.92      1000\n",
      "\n"
     ]
    }
   ],
   "source": [
    "# Utvärdering\n",
    "y_proba_test = calibrated.predict_proba(X_test)[:,1]\n",
    "y_pred_default = (y_proba_test >= 0.5).astype(int)\n",
    "y_pred_tuned = (y_proba_test >= best_thr).astype(int)\n",
    "\n",
    "def eval_model(y_true, y_pred, y_proba):\n",
    "    print('ROC AUC :', roc_auc_score(y_true, y_proba))\n",
    "    print('PR  AUC :', average_precision_score(y_true, y_proba))\n",
    "    print('Accuracy:', accuracy_score(y_true, y_pred))\n",
    "    print('Recall  :', recall_score(y_true, y_pred))\n",
    "    print('Precision:', precision_score(y_true, y_pred))\n",
    "    print('F1      :', f1_score(y_true, y_pred))\n",
    "    print('Brier   :', brier_score_loss(y_true, y_proba))\n",
    "    print('Confusion matrix:\\n', confusion_matrix(y_true, y_pred))\n",
    "    print(classification_report(y_true, y_pred))\n",
    "\n",
    "print('=== Threshold = 0.50 ===')\n",
    "eval_model(y_test, y_pred_default, y_proba_test)\n",
    "\n",
    "print('\\n=== Threshold = Tunad ===')\n",
    "eval_model(y_test, y_pred_tuned, y_proba_test)"
   ]
  },
  {
   "cell_type": "code",
   "execution_count": null,
   "id": "24157a5d",
   "metadata": {},
   "outputs": [
    {
     "data": {
      "image/png": "[encoded data removed]",
      "text/plain": [
       "<Figure size 640x480 with 1 Axes>"
      ]
     },
     "metadata": {},
     "output_type": "display_data"
    }
   ],
   "source": [
    "# Visa ROC-kurva\n",
    "RocCurveDisplay.from_predictions(y_test, y_proba_test, name=\"Logistic Regression (kalibrerad)\")\n",
    "plt.plot([0, 1], [0, 1], \"--\", color=\"gray\", alpha=0.6)\n",
    "plt.title(\"ROC-kurva – Testdata\")\n",
    "plt.grid(True)\n",
    "plt.tight_layout()\n",
    "plt.show()\n"
   ]
  }
 ],
 "metadata": {
  "kernelspec": {
   "display_name": "Python 3",
   "language": "python",
   "name": "python3"
  },
  "language_info": {
   "codemirror_mode": {
    "name": "ipython",
    "version": 3
   },
   "file_extension": ".py",
   "mimetype": "text/x-python",
   "name": "python",
   "nbconvert_exporter": "python",
   "pygments_lexer": "ipython3",
   "version": "3.9.9"
  }
 },
 "nbformat": 4,
 "nbformat_minor": 5
}

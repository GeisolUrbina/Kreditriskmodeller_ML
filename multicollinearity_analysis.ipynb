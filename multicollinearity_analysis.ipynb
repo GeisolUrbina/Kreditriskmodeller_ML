{
 "cells": [
  {
   "cell_type": "code",
   "execution_count": null,
   "id": "519706ab",
   "metadata": {},
   "outputs": [],
   "source": [
    "import numpy as np\n",
    "import pandas as pd\n",
    "\n",
    "def calculate_vif(df):\n",
    "    X = df.values\n",
    "    n, k = X.shape\n",
    "    vif_data = []\n",
    "\n",
    "    for i in range(k):\n",
    "        y = X[:, i]\n",
    "        X_other = np.delete(X, i, axis=1)\n",
    "        \n",
    "        # Enkel regression (minsta kvadrat) för att beräkna R²\n",
    "        beta, *_ = np.linalg.lstsq(X_other, y, rcond=None)\n",
    "        y_pred = X_other @ beta\n",
    "        r2 = 1 - np.sum((y - y_pred)**2) / np.sum((y - y.mean())**2)\n",
    "        \n",
    "        vif = 1 / (1 - r2) if r2 < 1 else float(\"inf\")\n",
    "        vif_data.append({\"Feature\": df.columns[i], \"VIF\": vif})\n",
    "    \n",
    "    return pd.DataFrame(vif_data)\n"
   ]
  },
  {
   "cell_type": "code",
   "execution_count": null,
   "id": "9841ce79",
   "metadata": {},
   "outputs": [
    {
     "name": "stdout",
     "output_type": "stream",
     "text": [
      "           Feature        VIF\n",
      "0              age   1.534793\n",
      "1  years_with_bank   1.593626\n",
      "2           income   1.503262\n",
      "3     credit_score   0.113092\n",
      "4         has_loan   4.987881\n",
      "5      loan_amount   9.744918\n",
      "6              dti  23.093340\n",
      "7  missed_payments   9.485430\n",
      "8     prob_default  26.988956\n"
     ]
    }
   ],
   "source": [
    "import pandas as pd\n",
    "\n",
    "df = pd.read_csv(\"synthetic_credit_data.csv\")\n",
    "\n",
    "features = [\"age\", \"years_with_bank\", \"income\", \"credit_score\", \n",
    "            \"has_loan\", \"loan_amount\", \"dti\", \"missed_payments\", \"prob_default\"]\n",
    "\n",
    "X = df[features].dropna()\n",
    "vif_df = calculate_vif(X)\n",
    "print(vif_df)\n"
   ]
  },
  {
   "cell_type": "code",
   "execution_count": null,
   "id": "816a72a7",
   "metadata": {},
   "outputs": [
    {
     "name": "stdout",
     "output_type": "stream",
     "text": [
      "           Feature        VIF\n",
      "0              age   1.571867\n",
      "1  years_with_bank   3.097526\n",
      "2           income   4.852512\n",
      "3     credit_score   0.269638\n",
      "4      loan_amount  12.691806\n",
      "5              dti  14.441339\n",
      "6  missed_payments  10.391560\n",
      "7     prob_default  15.187819\n"
     ]
    }
   ],
   "source": [
    "bor = df[df[\"has_loan\"] == 1].copy()\n",
    "\n",
    "features = [\"age\", \"years_with_bank\", \"income\", \"credit_score\", \n",
    "            \"loan_amount\", \"dti\", \"missed_payments\", \"prob_default\"]\n",
    "\n",
    "X = bor[features].dropna()\n",
    "vif_df = calculate_vif(X)\n",
    "print(vif_df)"
   ]
  }
 ],
 "metadata": {
  "kernelspec": {
   "display_name": "Python 3",
   "language": "python",
   "name": "python3"
  },
  "language_info": {
   "codemirror_mode": {
    "name": "ipython",
    "version": 3
   },
   "file_extension": ".py",
   "mimetype": "text/x-python",
   "name": "python",
   "nbconvert_exporter": "python",
   "pygments_lexer": "ipython3",
   "version": "3.9.9"
  }
 },
 "nbformat": 4,
 "nbformat_minor": 5
}
